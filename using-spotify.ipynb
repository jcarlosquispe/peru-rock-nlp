{
 "cells": [
  {
   "cell_type": "code",
   "execution_count": 1,
   "metadata": {},
   "outputs": [],
   "source": [
    "import spotipy\n",
    "from spotipy.oauth2 import SpotifyClientCredentials\n",
    "import json\n",
    "import pandas as pd\n",
    "import numpy as np\n",
    "import re\n",
    "import urllib.request\n",
    "from bs4 import BeautifulSoup"
   ]
  },
  {
   "cell_type": "code",
   "execution_count": 2,
   "metadata": {},
   "outputs": [],
   "source": [
    "cid = 'client-id'\n",
    "secret = 'secret-id'\n",
    "client_credentials_manager = SpotifyClientCredentials(client_id = cid, client_secret = secret)\n",
    "sp = spotipy.Spotify(client_credentials_manager = client_credentials_manager)"
   ]
  },
  {
   "cell_type": "markdown",
   "metadata": {},
   "source": [
    "Reading data from the following playlists: <br>\n",
    "https://open.spotify.com/playlist/1Csg2osWLx5EOa3bTVvKxg <br>\n",
    "https://open.spotify.com/playlist/3pL68OCEZXmx6IBKggVdgR <br>\n",
    "https://open.spotify.com/playlist/2bFHkH8xHkHGPpfnhQQFn5 <br>\n",
    "https://open.spotify.com/playlist/6nXSobvQDOEXkjlxE19o0b <br>"
   ]
  },
  {
   "cell_type": "code",
   "execution_count": 3,
   "metadata": {},
   "outputs": [],
   "source": [
    "playlists_ids = ['1Csg2osWLx5EOa3bTVvKxg',\n",
    "                '3pL68OCEZXmx6IBKggVdgR',\n",
    "                '2bFHkH8xHkHGPpfnhQQFn5',\n",
    "                '6nXSobvQDOEXkjlxE19o0b']\n",
    "playlists = []\n",
    "\n",
    "for i in range(1, len(playlists_ids)):\n",
    "    playlists.append(sp.playlist_tracks(playlist_id=playlists_ids[i], limit=100))"
   ]
  },
  {
   "cell_type": "code",
   "execution_count": 4,
   "metadata": {},
   "outputs": [],
   "source": [
    "artist_name = []\n",
    "track_name = []\n",
    "track_duration = []\n",
    "track_album = []\n",
    "album_release = []\n",
    "album_release_precision = []\n",
    "track_id = []\n",
    "track_popularity = []\n",
    "\n",
    "for i in range(0, len(playlists)):\n",
    "    for item in playlists[i]['items']:\n",
    "        track_name.append(item['track']['name'])\n",
    "        track_duration.append(item['track']['duration_ms'])\n",
    "        artist_name.append(item['track']['artists'][0]['name'])\n",
    "        track_album.append(item['track']['album']['name'])\n",
    "        album_release.append(item['track']['album']['release_date'])\n",
    "        album_release_precision.append(item['track']['album']['release_date_precision'])\n",
    "        track_id.append(item['track']['id'])\n",
    "        track_popularity.append(item['track']['popularity'])"
   ]
  },
  {
   "cell_type": "code",
   "execution_count": 5,
   "metadata": {},
   "outputs": [
    {
     "data": {
      "text/html": [
       "<div>\n",
       "<style scoped>\n",
       "    .dataframe tbody tr th:only-of-type {\n",
       "        vertical-align: middle;\n",
       "    }\n",
       "\n",
       "    .dataframe tbody tr th {\n",
       "        vertical-align: top;\n",
       "    }\n",
       "\n",
       "    .dataframe thead th {\n",
       "        text-align: right;\n",
       "    }\n",
       "</style>\n",
       "<table border=\"1\" class=\"dataframe\">\n",
       "  <thead>\n",
       "    <tr style=\"text-align: right;\">\n",
       "      <th></th>\n",
       "      <th>artist_name</th>\n",
       "      <th>track_name</th>\n",
       "      <th>track_duration</th>\n",
       "      <th>track_album</th>\n",
       "      <th>track_id</th>\n",
       "      <th>album_release</th>\n",
       "      <th>album_release_precision</th>\n",
       "      <th>track_popularity</th>\n",
       "    </tr>\n",
       "  </thead>\n",
       "  <tbody>\n",
       "    <tr>\n",
       "      <td>0</td>\n",
       "      <td>Dalevuelta</td>\n",
       "      <td>Quiero Ser un Ramones</td>\n",
       "      <td>235466</td>\n",
       "      <td>Somos Lo Que Fuimos</td>\n",
       "      <td>7IR1I8gbww7Bfe8tqY4jHi</td>\n",
       "      <td>2015-08-26</td>\n",
       "      <td>day</td>\n",
       "      <td>9</td>\n",
       "    </tr>\n",
       "    <tr>\n",
       "      <td>1</td>\n",
       "      <td>Dalevuelta</td>\n",
       "      <td>Un Simple Periodo</td>\n",
       "      <td>193021</td>\n",
       "      <td>Somos Lo Que Fuimos</td>\n",
       "      <td>0EKSdRveLQHhtntvJWFHWI</td>\n",
       "      <td>2015-08-26</td>\n",
       "      <td>day</td>\n",
       "      <td>6</td>\n",
       "    </tr>\n",
       "    <tr>\n",
       "      <td>2</td>\n",
       "      <td>Dalevuelta</td>\n",
       "      <td>Y Tu No Estás</td>\n",
       "      <td>151791</td>\n",
       "      <td>Somos Lo Que Fuimos</td>\n",
       "      <td>0pVED3J7TWoKzLBSX7OzeK</td>\n",
       "      <td>2015-08-26</td>\n",
       "      <td>day</td>\n",
       "      <td>8</td>\n",
       "    </tr>\n",
       "    <tr>\n",
       "      <td>3</td>\n",
       "      <td>Dalevuelta</td>\n",
       "      <td>A un Amigo</td>\n",
       "      <td>210058</td>\n",
       "      <td>Somos Lo Que Fuimos</td>\n",
       "      <td>6mVInhdzGpqElPqD2LnJ6D</td>\n",
       "      <td>2015-08-26</td>\n",
       "      <td>day</td>\n",
       "      <td>7</td>\n",
       "    </tr>\n",
       "    <tr>\n",
       "      <td>4</td>\n",
       "      <td>Dalevuelta</td>\n",
       "      <td>Inocencia</td>\n",
       "      <td>143072</td>\n",
       "      <td>Antología (1999 - 2008)</td>\n",
       "      <td>7nTyWxrQYwANc2VtK9PRMw</td>\n",
       "      <td>2014-06-30</td>\n",
       "      <td>day</td>\n",
       "      <td>9</td>\n",
       "    </tr>\n",
       "  </tbody>\n",
       "</table>\n",
       "</div>"
      ],
      "text/plain": [
       "  artist_name             track_name  track_duration              track_album  \\\n",
       "0  Dalevuelta  Quiero Ser un Ramones          235466      Somos Lo Que Fuimos   \n",
       "1  Dalevuelta      Un Simple Periodo          193021      Somos Lo Que Fuimos   \n",
       "2  Dalevuelta          Y Tu No Estás          151791      Somos Lo Que Fuimos   \n",
       "3  Dalevuelta             A un Amigo          210058      Somos Lo Que Fuimos   \n",
       "4  Dalevuelta              Inocencia          143072  Antología (1999 - 2008)   \n",
       "\n",
       "                 track_id album_release album_release_precision  \\\n",
       "0  7IR1I8gbww7Bfe8tqY4jHi    2015-08-26                     day   \n",
       "1  0EKSdRveLQHhtntvJWFHWI    2015-08-26                     day   \n",
       "2  0pVED3J7TWoKzLBSX7OzeK    2015-08-26                     day   \n",
       "3  6mVInhdzGpqElPqD2LnJ6D    2015-08-26                     day   \n",
       "4  7nTyWxrQYwANc2VtK9PRMw    2014-06-30                     day   \n",
       "\n",
       "   track_popularity  \n",
       "0                 9  \n",
       "1                 6  \n",
       "2                 8  \n",
       "3                 7  \n",
       "4                 9  "
      ]
     },
     "execution_count": 5,
     "metadata": {},
     "output_type": "execute_result"
    }
   ],
   "source": [
    "peru_df = pd.DataFrame({'artist_name' : artist_name, \n",
    "                        'track_name' : track_name, \n",
    "                        'track_duration' : track_duration, \n",
    "                        'track_album' : track_album,\n",
    "                        'track_id' : track_id,\n",
    "                        'album_release' : album_release,\n",
    "                        'album_release_precision' : album_release_precision,\n",
    "                        'track_popularity' : track_popularity})\n",
    "peru_df.head()"
   ]
  },
  {
   "cell_type": "code",
   "execution_count": 6,
   "metadata": {},
   "outputs": [
    {
     "data": {
      "text/plain": [
       "(215, 8)"
      ]
     },
     "execution_count": 6,
     "metadata": {},
     "output_type": "execute_result"
    }
   ],
   "source": [
    "peru_df.shape"
   ]
  },
  {
   "cell_type": "code",
   "execution_count": 17,
   "metadata": {},
   "outputs": [],
   "source": [
    "## Function to return lyrics from AZ lyrics\n",
    "## src: https://www.quora.com/Whats-a-good-API-to-use-to-get-song-lyrics\n",
    "\n",
    "def get_lyrics(artist,song_title):\n",
    "    artist = artist.lower()\n",
    "    song_title = song_title.lower()\n",
    "    # remove all except alphanumeric characters from artist and song_title\n",
    "    artist = re.sub('[^A-Za-z0-9]+', \"\", artist)\n",
    "    song_title = re.sub('[^A-Za-z0-9]+', \"\", song_title)\n",
    "    if artist.startswith(\"the\"):    # remove starting 'the' from artist e.g. the who -> who\n",
    "        artist = artist[3:]\n",
    "    url = \"http://azlyrics.com/lyrics/\"+artist+\"/\"+song_title+\".html\"\n",
    "    \n",
    "    try:\n",
    "        content = urllib.request.urlopen(url).read()\n",
    "        soup = BeautifulSoup(content, 'html.parser')\n",
    "        lyrics = str(soup)\n",
    "        # lyrics lies between up_partition and down_partition\n",
    "        up_partition = '<!-- Usage of azlyrics.com content by any third-party lyrics provider is prohibited by our licensing agreement. Sorry about that. -->'\n",
    "        down_partition = '<!-- MxM banner -->'\n",
    "        lyrics = lyrics.split(up_partition)[1]\n",
    "        lyrics = lyrics.split(down_partition)[0]\n",
    "        lyrics = lyrics.replace('<br>','').replace('</br>','').replace('</div>','').strip()\n",
    "        return lyrics\n",
    "    except Exception as e:\n",
    "        return \"Exception occurred \\n\" +str(e)"
   ]
  },
  {
   "cell_type": "code",
   "execution_count": 18,
   "metadata": {},
   "outputs": [
    {
     "data": {
      "text/plain": [
       "'Exception occurred \\nHTTP Error 404: Not Found'"
      ]
     },
     "execution_count": 18,
     "metadata": {},
     "output_type": "execute_result"
    }
   ],
   "source": [
    "get_lyrics(peru_df['artist_name'][0], peru_df['track_name'][0])"
   ]
  }
 ],
 "metadata": {
  "kernelspec": {
   "display_name": "Python 3",
   "language": "python",
   "name": "python3"
  },
  "language_info": {
   "codemirror_mode": {
    "name": "ipython",
    "version": 3
   },
   "file_extension": ".py",
   "mimetype": "text/x-python",
   "name": "python",
   "nbconvert_exporter": "python",
   "pygments_lexer": "ipython3",
   "version": "3.7.4"
  }
 },
 "nbformat": 4,
 "nbformat_minor": 2
}
