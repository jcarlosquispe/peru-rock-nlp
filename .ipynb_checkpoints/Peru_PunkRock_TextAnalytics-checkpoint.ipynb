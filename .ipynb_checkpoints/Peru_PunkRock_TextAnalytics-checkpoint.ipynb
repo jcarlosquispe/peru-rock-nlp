{
 "cells": [
  {
   "cell_type": "markdown",
   "metadata": {},
   "source": [
    "# Text Analytics of Peruvian Rock Songs"
   ]
  },
  {
   "cell_type": "code",
   "execution_count": 1,
   "metadata": {},
   "outputs": [],
   "source": [
    "import pandas as pd\n",
    "import numpy as np\n",
    "import matplotlib\n",
    "import string\n",
    "import re\n",
    "from collections import Counter\n",
    "from nltk.corpus import stopwords\n",
    "%matplotlib inline"
   ]
  },
  {
   "cell_type": "code",
   "execution_count": 2,
   "metadata": {},
   "outputs": [
    {
     "data": {
      "text/html": [
       "<div>\n",
       "<style scoped>\n",
       "    .dataframe tbody tr th:only-of-type {\n",
       "        vertical-align: middle;\n",
       "    }\n",
       "\n",
       "    .dataframe tbody tr th {\n",
       "        vertical-align: top;\n",
       "    }\n",
       "\n",
       "    .dataframe thead th {\n",
       "        text-align: right;\n",
       "    }\n",
       "</style>\n",
       "<table border=\"1\" class=\"dataframe\">\n",
       "  <thead>\n",
       "    <tr style=\"text-align: right;\">\n",
       "      <th></th>\n",
       "      <th>Band</th>\n",
       "      <th>Title</th>\n",
       "      <th>Year</th>\n",
       "      <th>Album</th>\n",
       "      <th>Lyrics</th>\n",
       "    </tr>\n",
       "  </thead>\n",
       "  <tbody>\n",
       "    <tr>\n",
       "      <td>0</td>\n",
       "      <td>Inyectores</td>\n",
       "      <td>Orbital</td>\n",
       "      <td>2001.0</td>\n",
       "      <td>Bombardero</td>\n",
       "      <td>Hiéreme soy tu sueño que desaparece y vuelve\\n...</td>\n",
       "    </tr>\n",
       "    <tr>\n",
       "      <td>1</td>\n",
       "      <td>Inyectores</td>\n",
       "      <td>Dias Oscuros</td>\n",
       "      <td>2008.0</td>\n",
       "      <td>Viaje al centro del olvido</td>\n",
       "      <td>Hoy quise dar\\nlo que no quise perder ayer\\ny ...</td>\n",
       "    </tr>\n",
       "    <tr>\n",
       "      <td>2</td>\n",
       "      <td>Inyectores</td>\n",
       "      <td>7 Vidas</td>\n",
       "      <td>2003.0</td>\n",
       "      <td>Rompecaminos</td>\n",
       "      <td>Vi crecer mil veces ideas acá\\nvi sembrar sonr...</td>\n",
       "    </tr>\n",
       "    <tr>\n",
       "      <td>3</td>\n",
       "      <td>Inyectores</td>\n",
       "      <td>Orbital</td>\n",
       "      <td>2001.0</td>\n",
       "      <td>Bombardero</td>\n",
       "      <td>Despega bombardero, vuela sobre\\nel miedo de t...</td>\n",
       "    </tr>\n",
       "    <tr>\n",
       "      <td>4</td>\n",
       "      <td>6 Voltios</td>\n",
       "      <td>Wirito</td>\n",
       "      <td>2003.0</td>\n",
       "      <td>Día Plastico</td>\n",
       "      <td>Ese wirito que te robaste\\nte lo fumaste y te ...</td>\n",
       "    </tr>\n",
       "  </tbody>\n",
       "</table>\n",
       "</div>"
      ],
      "text/plain": [
       "         Band         Title    Year                       Album  \\\n",
       "0  Inyectores       Orbital  2001.0                  Bombardero   \n",
       "1  Inyectores  Dias Oscuros  2008.0  Viaje al centro del olvido   \n",
       "2  Inyectores       7 Vidas  2003.0                Rompecaminos   \n",
       "3  Inyectores       Orbital  2001.0                  Bombardero   \n",
       "4   6 Voltios        Wirito  2003.0                Día Plastico   \n",
       "\n",
       "                                              Lyrics  \n",
       "0  Hiéreme soy tu sueño que desaparece y vuelve\\n...  \n",
       "1  Hoy quise dar\\nlo que no quise perder ayer\\ny ...  \n",
       "2  Vi crecer mil veces ideas acá\\nvi sembrar sonr...  \n",
       "3  Despega bombardero, vuela sobre\\nel miedo de t...  \n",
       "4  Ese wirito que te robaste\\nte lo fumaste y te ...  "
      ]
     },
     "execution_count": 2,
     "metadata": {},
     "output_type": "execute_result"
    }
   ],
   "source": [
    "df = pd.read_csv('peruvian_punk_db.csv')\n",
    "df.head()"
   ]
  },
  {
   "cell_type": "code",
   "execution_count": 3,
   "metadata": {},
   "outputs": [],
   "source": [
    "PUNCT_TO_REMOVE = string.punctuation\n",
    "def remove_punctuation(text):\n",
    "    return text.translate(str.maketrans('', '', PUNCT_TO_REMOVE))"
   ]
  },
  {
   "cell_type": "code",
   "execution_count": 5,
   "metadata": {},
   "outputs": [
    {
     "data": {
      "text/plain": [
       "'! \" # $ % & \\' ( ) * + , - . / : ; < = > ? @ [ \\\\ ] ^ _ ` { | } ~'"
      ]
     },
     "execution_count": 5,
     "metadata": {},
     "output_type": "execute_result"
    }
   ],
   "source": [
    "\" \".join(string.punctuation)"
   ]
  },
  {
   "cell_type": "code",
   "execution_count": 6,
   "metadata": {},
   "outputs": [
    {
     "data": {
      "text/html": [
       "<div>\n",
       "<style scoped>\n",
       "    .dataframe tbody tr th:only-of-type {\n",
       "        vertical-align: middle;\n",
       "    }\n",
       "\n",
       "    .dataframe tbody tr th {\n",
       "        vertical-align: top;\n",
       "    }\n",
       "\n",
       "    .dataframe thead th {\n",
       "        text-align: right;\n",
       "    }\n",
       "</style>\n",
       "<table border=\"1\" class=\"dataframe\">\n",
       "  <thead>\n",
       "    <tr style=\"text-align: right;\">\n",
       "      <th></th>\n",
       "      <th>Band</th>\n",
       "      <th>Title</th>\n",
       "      <th>Year</th>\n",
       "      <th>Album</th>\n",
       "      <th>Lyrics</th>\n",
       "      <th>lyrics_wo_punct</th>\n",
       "    </tr>\n",
       "  </thead>\n",
       "  <tbody>\n",
       "    <tr>\n",
       "      <td>0</td>\n",
       "      <td>Inyectores</td>\n",
       "      <td>Orbital</td>\n",
       "      <td>2001.0</td>\n",
       "      <td>Bombardero</td>\n",
       "      <td>Hiéreme soy tu sueño que desaparece y vuelve\\n...</td>\n",
       "      <td>Hiéreme soy tu sueño que desaparece y vuelve\\n...</td>\n",
       "    </tr>\n",
       "    <tr>\n",
       "      <td>1</td>\n",
       "      <td>Inyectores</td>\n",
       "      <td>Dias Oscuros</td>\n",
       "      <td>2008.0</td>\n",
       "      <td>Viaje al centro del olvido</td>\n",
       "      <td>Hoy quise dar\\nlo que no quise perder ayer\\ny ...</td>\n",
       "      <td>Hoy quise dar\\nlo que no quise perder ayer\\ny ...</td>\n",
       "    </tr>\n",
       "    <tr>\n",
       "      <td>2</td>\n",
       "      <td>Inyectores</td>\n",
       "      <td>7 Vidas</td>\n",
       "      <td>2003.0</td>\n",
       "      <td>Rompecaminos</td>\n",
       "      <td>Vi crecer mil veces ideas acá\\nvi sembrar sonr...</td>\n",
       "      <td>Vi crecer mil veces ideas acá\\nvi sembrar sonr...</td>\n",
       "    </tr>\n",
       "    <tr>\n",
       "      <td>3</td>\n",
       "      <td>Inyectores</td>\n",
       "      <td>Orbital</td>\n",
       "      <td>2001.0</td>\n",
       "      <td>Bombardero</td>\n",
       "      <td>Despega bombardero, vuela sobre\\nel miedo de t...</td>\n",
       "      <td>Despega bombardero vuela sobre\\nel miedo de tu...</td>\n",
       "    </tr>\n",
       "    <tr>\n",
       "      <td>4</td>\n",
       "      <td>6 Voltios</td>\n",
       "      <td>Wirito</td>\n",
       "      <td>2003.0</td>\n",
       "      <td>Día Plastico</td>\n",
       "      <td>Ese wirito que te robaste\\nte lo fumaste y te ...</td>\n",
       "      <td>Ese wirito que te robaste\\nte lo fumaste y te ...</td>\n",
       "    </tr>\n",
       "  </tbody>\n",
       "</table>\n",
       "</div>"
      ],
      "text/plain": [
       "         Band         Title    Year                       Album  \\\n",
       "0  Inyectores       Orbital  2001.0                  Bombardero   \n",
       "1  Inyectores  Dias Oscuros  2008.0  Viaje al centro del olvido   \n",
       "2  Inyectores       7 Vidas  2003.0                Rompecaminos   \n",
       "3  Inyectores       Orbital  2001.0                  Bombardero   \n",
       "4   6 Voltios        Wirito  2003.0                Día Plastico   \n",
       "\n",
       "                                              Lyrics  \\\n",
       "0  Hiéreme soy tu sueño que desaparece y vuelve\\n...   \n",
       "1  Hoy quise dar\\nlo que no quise perder ayer\\ny ...   \n",
       "2  Vi crecer mil veces ideas acá\\nvi sembrar sonr...   \n",
       "3  Despega bombardero, vuela sobre\\nel miedo de t...   \n",
       "4  Ese wirito que te robaste\\nte lo fumaste y te ...   \n",
       "\n",
       "                                     lyrics_wo_punct  \n",
       "0  Hiéreme soy tu sueño que desaparece y vuelve\\n...  \n",
       "1  Hoy quise dar\\nlo que no quise perder ayer\\ny ...  \n",
       "2  Vi crecer mil veces ideas acá\\nvi sembrar sonr...  \n",
       "3  Despega bombardero vuela sobre\\nel miedo de tu...  \n",
       "4  Ese wirito que te robaste\\nte lo fumaste y te ...  "
      ]
     },
     "execution_count": 6,
     "metadata": {},
     "output_type": "execute_result"
    }
   ],
   "source": [
    "df[\"lyrics_wo_punct\"] = df[\"Lyrics\"].apply(lambda text: remove_punctuation(text))\n",
    "df.head()"
   ]
  },
  {
   "cell_type": "code",
   "execution_count": 7,
   "metadata": {},
   "outputs": [],
   "source": [
    "def clean_text(article):\n",
    "    clean1 = re.sub(r'['+string.punctuation + '’—”'+']', \"\", article.lower())\n",
    "    return re.sub(r'\\W+', ' ', clean1)"
   ]
  },
  {
   "cell_type": "code",
   "execution_count": 8,
   "metadata": {},
   "outputs": [
    {
     "data": {
      "text/plain": [
       "149.9090909090909"
      ]
     },
     "execution_count": 8,
     "metadata": {},
     "output_type": "execute_result"
    }
   ],
   "source": [
    "df['tokenized'] = df['lyrics_wo_punct'].map(lambda x: clean_text(x))\n",
    "df['num_wds'] = df['tokenized'].apply(lambda x: len(x.split()))\n",
    "df['num_wds'].mean()"
   ]
  },
  {
   "cell_type": "code",
   "execution_count": 9,
   "metadata": {},
   "outputs": [
    {
     "data": {
      "image/png": "[encoded data removed]",
      "text/plain": [
       "<Figure size 576x432 with 1 Axes>"
      ]
     },
     "metadata": {
      "needs_background": "light"
     },
     "output_type": "display_data"
    }
   ],
   "source": [
    "ax=df['num_wds'].plot(kind='hist', bins=50, fontsize=14, figsize=(8,6))\n",
    "ax.set_title('Song Length in Words\\n', fontsize=20)\n",
    "ax.set_ylabel('Frequency', fontsize=18)\n",
    "ax.set_xlabel('Number of Words', fontsize=18);"
   ]
  },
  {
   "cell_type": "code",
   "execution_count": 10,
   "metadata": {},
   "outputs": [
    {
     "data": {
      "text/plain": [
       "'de, la, que, el, en, y, a, los, del, se, las, por, un, para, con, no, una, su, al, lo, como, más, pero, sus, le, ya, o, este, sí, porque, esta, entre, cuando, muy, sin, sobre, también, me, hasta, hay, donde, quien, desde, todo, nos, durante, todos, uno, les, ni, contra, otros, ese, eso, ante, ellos, e, esto, mí, antes, algunos, qué, unos, yo, otro, otras, otra, él, tanto, esa, estos, mucho, quienes, nada, muchos, cual, poco, ella, estar, estas, algunas, algo, nosotros, mi, mis, tú, te, ti, tu, tus, ellas, nosotras, vosotros, vosotras, os, mío, mía, míos, mías, tuyo, tuya, tuyos, tuyas, suyo, suya, suyos, suyas, nuestro, nuestra, nuestros, nuestras, vuestro, vuestra, vuestros, vuestras, esos, esas, estoy, estás, está, estamos, estáis, están, esté, estés, estemos, estéis, estén, estaré, estarás, estará, estaremos, estaréis, estarán, estaría, estarías, estaríamos, estaríais, estarían, estaba, estabas, estábamos, estabais, estaban, estuve, estuviste, estuvo, estuvimos, estuvisteis, estuvieron, estuviera, estuvieras, estuviéramos, estuvierais, estuvieran, estuviese, estuvieses, estuviésemos, estuvieseis, estuviesen, estando, estado, estada, estados, estadas, estad, he, has, ha, hemos, habéis, han, haya, hayas, hayamos, hayáis, hayan, habré, habrás, habrá, habremos, habréis, habrán, habría, habrías, habríamos, habríais, habrían, había, habías, habíamos, habíais, habían, hube, hubiste, hubo, hubimos, hubisteis, hubieron, hubiera, hubieras, hubiéramos, hubierais, hubieran, hubiese, hubieses, hubiésemos, hubieseis, hubiesen, habiendo, habido, habida, habidos, habidas, soy, eres, es, somos, sois, son, sea, seas, seamos, seáis, sean, seré, serás, será, seremos, seréis, serán, sería, serías, seríamos, seríais, serían, era, eras, éramos, erais, eran, fui, fuiste, fue, fuimos, fuisteis, fueron, fuera, fueras, fuéramos, fuerais, fueran, fuese, fueses, fuésemos, fueseis, fuesen, sintiendo, sentido, sentida, sentidos, sentidas, siente, sentid, tengo, tienes, tiene, tenemos, tenéis, tienen, tenga, tengas, tengamos, tengáis, tengan, tendré, tendrás, tendrá, tendremos, tendréis, tendrán, tendría, tendrías, tendríamos, tendríais, tendrían, tenía, tenías, teníamos, teníais, tenían, tuve, tuviste, tuvo, tuvimos, tuvisteis, tuvieron, tuviera, tuvieras, tuviéramos, tuvierais, tuvieran, tuviese, tuvieses, tuviésemos, tuvieseis, tuviesen, teniendo, tenido, tenida, tenidos, tenidas, tened'"
      ]
     },
     "execution_count": 10,
     "metadata": {},
     "output_type": "execute_result"
    }
   ],
   "source": [
    "#Stop words from Spanish in NLTK dictionary\n",
    "\", \".join(stopwords.words('spanish'))"
   ]
  },
  {
   "cell_type": "code",
   "execution_count": 11,
   "metadata": {},
   "outputs": [
    {
     "data": {
      "text/html": [
       "<div>\n",
       "<style scoped>\n",
       "    .dataframe tbody tr th:only-of-type {\n",
       "        vertical-align: middle;\n",
       "    }\n",
       "\n",
       "    .dataframe tbody tr th {\n",
       "        vertical-align: top;\n",
       "    }\n",
       "\n",
       "    .dataframe thead th {\n",
       "        text-align: right;\n",
       "    }\n",
       "</style>\n",
       "<table border=\"1\" class=\"dataframe\">\n",
       "  <thead>\n",
       "    <tr style=\"text-align: right;\">\n",
       "      <th></th>\n",
       "      <th>Band</th>\n",
       "      <th>Title</th>\n",
       "      <th>Year</th>\n",
       "      <th>Album</th>\n",
       "      <th>Lyrics</th>\n",
       "      <th>lyrics_wo_punct</th>\n",
       "      <th>tokenized</th>\n",
       "      <th>num_wds</th>\n",
       "      <th>lyrics_wo_stop</th>\n",
       "    </tr>\n",
       "  </thead>\n",
       "  <tbody>\n",
       "    <tr>\n",
       "      <td>0</td>\n",
       "      <td>Inyectores</td>\n",
       "      <td>Orbital</td>\n",
       "      <td>2001.0</td>\n",
       "      <td>Bombardero</td>\n",
       "      <td>Hiéreme soy tu sueño que desaparece y vuelve\\n...</td>\n",
       "      <td>Hiéreme soy tu sueño que desaparece y vuelve\\n...</td>\n",
       "      <td>hiéreme soy tu sueño que desaparece y vuelve h...</td>\n",
       "      <td>161</td>\n",
       "      <td>Hiéreme sueño desaparece vuelve Háblame aire q...</td>\n",
       "    </tr>\n",
       "    <tr>\n",
       "      <td>1</td>\n",
       "      <td>Inyectores</td>\n",
       "      <td>Dias Oscuros</td>\n",
       "      <td>2008.0</td>\n",
       "      <td>Viaje al centro del olvido</td>\n",
       "      <td>Hoy quise dar\\nlo que no quise perder ayer\\ny ...</td>\n",
       "      <td>Hoy quise dar\\nlo que no quise perder ayer\\ny ...</td>\n",
       "      <td>hoy quise dar lo que no quise perder ayer y vi...</td>\n",
       "      <td>183</td>\n",
       "      <td>Hoy quise dar quise perder ayer vi llorar hues...</td>\n",
       "    </tr>\n",
       "    <tr>\n",
       "      <td>2</td>\n",
       "      <td>Inyectores</td>\n",
       "      <td>7 Vidas</td>\n",
       "      <td>2003.0</td>\n",
       "      <td>Rompecaminos</td>\n",
       "      <td>Vi crecer mil veces ideas acá\\nvi sembrar sonr...</td>\n",
       "      <td>Vi crecer mil veces ideas acá\\nvi sembrar sonr...</td>\n",
       "      <td>vi crecer mil veces ideas acá vi sembrar sonri...</td>\n",
       "      <td>215</td>\n",
       "      <td>Vi crecer mil veces ideas acá vi sembrar sonri...</td>\n",
       "    </tr>\n",
       "    <tr>\n",
       "      <td>3</td>\n",
       "      <td>Inyectores</td>\n",
       "      <td>Orbital</td>\n",
       "      <td>2001.0</td>\n",
       "      <td>Bombardero</td>\n",
       "      <td>Despega bombardero, vuela sobre\\nel miedo de t...</td>\n",
       "      <td>Despega bombardero vuela sobre\\nel miedo de tu...</td>\n",
       "      <td>despega bombardero vuela sobre el miedo de tu ...</td>\n",
       "      <td>151</td>\n",
       "      <td>Despega bombardero vuela miedo corazón Y surca...</td>\n",
       "    </tr>\n",
       "    <tr>\n",
       "      <td>4</td>\n",
       "      <td>6 Voltios</td>\n",
       "      <td>Wirito</td>\n",
       "      <td>2003.0</td>\n",
       "      <td>Día Plastico</td>\n",
       "      <td>Ese wirito que te robaste\\nte lo fumaste y te ...</td>\n",
       "      <td>Ese wirito que te robaste\\nte lo fumaste y te ...</td>\n",
       "      <td>ese wirito que te robaste te lo fumaste y te e...</td>\n",
       "      <td>129</td>\n",
       "      <td>Ese wirito robaste fumaste estoneaste volando ...</td>\n",
       "    </tr>\n",
       "  </tbody>\n",
       "</table>\n",
       "</div>"
      ],
      "text/plain": [
       "         Band         Title    Year                       Album  \\\n",
       "0  Inyectores       Orbital  2001.0                  Bombardero   \n",
       "1  Inyectores  Dias Oscuros  2008.0  Viaje al centro del olvido   \n",
       "2  Inyectores       7 Vidas  2003.0                Rompecaminos   \n",
       "3  Inyectores       Orbital  2001.0                  Bombardero   \n",
       "4   6 Voltios        Wirito  2003.0                Día Plastico   \n",
       "\n",
       "                                              Lyrics  \\\n",
       "0  Hiéreme soy tu sueño que desaparece y vuelve\\n...   \n",
       "1  Hoy quise dar\\nlo que no quise perder ayer\\ny ...   \n",
       "2  Vi crecer mil veces ideas acá\\nvi sembrar sonr...   \n",
       "3  Despega bombardero, vuela sobre\\nel miedo de t...   \n",
       "4  Ese wirito que te robaste\\nte lo fumaste y te ...   \n",
       "\n",
       "                                     lyrics_wo_punct  \\\n",
       "0  Hiéreme soy tu sueño que desaparece y vuelve\\n...   \n",
       "1  Hoy quise dar\\nlo que no quise perder ayer\\ny ...   \n",
       "2  Vi crecer mil veces ideas acá\\nvi sembrar sonr...   \n",
       "3  Despega bombardero vuela sobre\\nel miedo de tu...   \n",
       "4  Ese wirito que te robaste\\nte lo fumaste y te ...   \n",
       "\n",
       "                                           tokenized  num_wds  \\\n",
       "0  hiéreme soy tu sueño que desaparece y vuelve h...      161   \n",
       "1  hoy quise dar lo que no quise perder ayer y vi...      183   \n",
       "2  vi crecer mil veces ideas acá vi sembrar sonri...      215   \n",
       "3  despega bombardero vuela sobre el miedo de tu ...      151   \n",
       "4  ese wirito que te robaste te lo fumaste y te e...      129   \n",
       "\n",
       "                                      lyrics_wo_stop  \n",
       "0  Hiéreme sueño desaparece vuelve Háblame aire q...  \n",
       "1  Hoy quise dar quise perder ayer vi llorar hues...  \n",
       "2  Vi crecer mil veces ideas acá vi sembrar sonri...  \n",
       "3  Despega bombardero vuela miedo corazón Y surca...  \n",
       "4  Ese wirito robaste fumaste estoneaste volando ...  "
      ]
     },
     "execution_count": 11,
     "metadata": {},
     "output_type": "execute_result"
    }
   ],
   "source": [
    "STOPWORDS = set(stopwords.words('spanish'))\n",
    "def remove_stopwords(text):\n",
    "    return \" \".join([word for word in str(text).split() if word not in STOPWORDS])\n",
    "\n",
    "df[\"lyrics_wo_stop\"] = df[\"lyrics_wo_punct\"].apply(lambda text: remove_stopwords(text))\n",
    "df.head()"
   ]
  },
  {
   "cell_type": "code",
   "execution_count": 12,
   "metadata": {},
   "outputs": [
    {
     "data": {
      "text/plain": [
       "[('luz', 23),\n",
       " ('solo', 23),\n",
       " ('nunca', 18),\n",
       " ('vez', 18),\n",
       " ('¡no', 18),\n",
       " ('q', 17),\n",
       " ('vida', 17),\n",
       " ('Y', 17),\n",
       " ('vivir', 17),\n",
       " ('historia', 17)]"
      ]
     },
     "execution_count": 12,
     "metadata": {},
     "output_type": "execute_result"
    }
   ],
   "source": [
    "cnt = Counter()\n",
    "for text in df[\"lyrics_wo_stop\"].values:\n",
    "    for word in text.split():\n",
    "        cnt[word] += 1\n",
    "        \n",
    "cnt.most_common(10)"
   ]
  }
 ],
 "metadata": {
  "kernelspec": {
   "display_name": "Python 3",
   "language": "python",
   "name": "python3"
  },
  "language_info": {
   "codemirror_mode": {
    "name": "ipython",
    "version": 3
   },
   "file_extension": ".py",
   "mimetype": "text/x-python",
   "name": "python",
   "nbconvert_exporter": "python",
   "pygments_lexer": "ipython3",
   "version": "3.7.4"
  }
 },
 "nbformat": 4,
 "nbformat_minor": 2
}
